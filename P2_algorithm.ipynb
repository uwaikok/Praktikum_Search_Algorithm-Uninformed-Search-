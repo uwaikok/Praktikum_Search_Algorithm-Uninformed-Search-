{
  "nbformat": 4,
  "nbformat_minor": 0,
  "metadata": {
    "colab": {
      "provenance": []
    },
    "kernelspec": {
      "name": "python3",
      "display_name": "Python 3"
    },
    "language_info": {
      "name": "python"
    }
  },
  "cells": [
    {
      "cell_type": "code",
      "execution_count": null,
      "metadata": {
        "colab": {
          "base_uri": "https://localhost:8080/"
        },
        "id": "Jtk3gYw6u02m",
        "outputId": "59456d20-033c-4200-d220-3fd0565d960b"
      },
      "outputs": [
        {
          "output_type": "stream",
          "name": "stdout",
          "text": [
            "DFS mulai dari vertex 2:\n",
            "2 0 1 3 Berikut adalah Penelusuran Depth First (dimulai dari node 2)\n",
            "2 0 1 3 "
          ]
        }
      ],
      "source": [
        "# Python3 program to print DFS traversal\n",
        "# from a given graph\n",
        "from collections import defaultdict\n",
        "\n",
        "# Kelas ini merepresentasikan sebuah graf yang diarahkan\n",
        "# menggunakan representasi daftar kejadian\n",
        "class Graph:\n",
        "\n",
        "    # Konstruktor\n",
        "    def __init__(self):\n",
        "        # Kamus default untuk menyimpan graf\n",
        "        self.graph = defaultdict(list)\n",
        "\n",
        "    # Fungsi untuk menambahkan tepi ke graf\n",
        "    def addEdge(self, u, v):\n",
        "        self.graph[u].append(v)\n",
        "\n",
        "    # Fungsi yang digunakan oleh DFS\n",
        "    def DFSUtil(self, v, visited):\n",
        "        # Tandai node saat ini sebagai sudah dikunjungi\n",
        "        # dan cetak\n",
        "        visited.add(v)\n",
        "        print(v, end=' ')\n",
        "\n",
        "        # Panggil rekursif untuk semua titik ujung\n",
        "        # yang berdekatan dengan titik ini\n",
        "        for neighbour in self.graph[v]:\n",
        "            if neighbour not in visited:\n",
        "                self.DFSUtil(neighbour, visited)\n",
        "\n",
        "    # Fungsi untuk memulai DFS dari simpul tertentu\n",
        "    def DFS(self, v):\n",
        "        # Buat set untuk melacak node yang dikunjungi\n",
        "        visited = set()\n",
        "        # Panggil fungsi DFSUtil\n",
        "        self.DFSUtil(v, visited)\n",
        "\n",
        "\n",
        "# Driver code\n",
        "if __name__ == '__main__':\n",
        "    # Buat graf sesuai contoh\n",
        "    g = Graph()\n",
        "    g.addEdge(0, 1)\n",
        "    g.addEdge(0, 2)\n",
        "    g.addEdge(1, 2)\n",
        "    g.addEdge(2, 0)\n",
        "    g.addEdge(2, 3)\n",
        "    g.addEdge(3, 3)\n",
        "\n",
        "    print(\"DFS mulai dari vertex 2:\")\n",
        "    g.DFS(2)\n",
        "class Graph:\n",
        "    def __init__(self):\n",
        "        self.graph = {}\n",
        "\n",
        "    # Fungsi untuk menambahkan edge ke dalam graph\n",
        "    def addEdge(self, u, v):\n",
        "        if u not in self.graph:\n",
        "            self.graph[u] = []\n",
        "        self.graph[u].append(v)\n",
        "\n",
        "    # Fungsi bantu (rekursif) untuk DFS\n",
        "    def DFSUtil(self, v, visited):\n",
        "        # Tandai node v sebagai sudah dikunjungi\n",
        "        visited.add(v)\n",
        "        print(v, end=' ')\n",
        "\n",
        "        # Lakukan rekursi untuk semua vertex\n",
        "        # yang terhubung dengan v\n",
        "        if v in self.graph:\n",
        "            for neighbour in self.graph[v]:\n",
        "                if neighbour not in visited:\n",
        "                    self.DFSUtil(neighbour, visited)\n",
        "\n",
        "    # Fungsi untuk melakukan penelusuran DFS. Ini menggunakan DFSUtil() secara rekursif\n",
        "    def DFS(self, v):\n",
        "        # Buat himpunan untuk menyimpan node yang sudah dikunjungi\n",
        "        visited = set()\n",
        "        # Panggil fungsi bantu rekursif untuk mencetak penelusuran DFS\n",
        "        self.DFSUtil(v, visited)\n",
        "\n",
        "# Kode pengguna\n",
        "if __name__ == \"__main__\":\n",
        "    g = Graph()\n",
        "    g.addEdge(0, 1)\n",
        "    g.addEdge(0, 2)\n",
        "    g.addEdge(1, 2)\n",
        "    g.addEdge(2, 0)\n",
        "    g.addEdge(2, 3)\n",
        "    g.addEdge(3, 3)\n",
        "\n",
        "    print(\"Berikut adalah Penelusuran Depth First (dimulai dari node 2)\")\n",
        "    g.DFS(2)\n",
        "\n",
        "# Kode ini disumbangkan oleh Neelam Yadav\n"
      ]
    },
    {
      "cell_type": "code",
      "source": [
        "# BFS algorithm in Python\n",
        "\n",
        "import collections\n",
        "\n",
        "# BFS algorithm\n",
        "def bfs(graph, root):\n",
        "    visited, queue = set(), collections.deque([root])\n",
        "    visited.add(root)\n",
        "\n",
        "    while queue:\n",
        "        vertex = queue.popleft()\n",
        "        print(str(vertex) + \" \", end=\"\")\n",
        "\n",
        "        for neighbour in graph[vertex]:\n",
        "            if neighbour not in visited:\n",
        "                visited.add(neighbour)\n",
        "                queue.append(neighbour)\n",
        "\n",
        "if __name__ == '__main__':\n",
        "    graph = {0: [1, 2],\n",
        "             1: [2],\n",
        "             2: [3],\n",
        "             3: [1, 2]}\n",
        "    print(\"Following is Breadth First Traversal:\")\n",
        "    bfs(graph, 0)\n"
      ],
      "metadata": {
        "colab": {
          "base_uri": "https://localhost:8080/"
        },
        "id": "FlmqeyO_vZJ7",
        "outputId": "70958a2a-7dc6-4413-90d4-e1769c0efa90"
      },
      "execution_count": null,
      "outputs": [
        {
          "output_type": "stream",
          "name": "stdout",
          "text": [
            "Following is Breadth First Traversal:\n",
            "0 1 2 3 "
          ]
        }
      ]
    },
    {
      "cell_type": "code",
      "source": [
        "import heapq\n",
        "\n",
        "def uniform_cost_search(goal, start):\n",
        "    global graph, cost\n",
        "    answer = [10**8] * len(goal)\n",
        "\n",
        "    # Priority queue (min-heap)\n",
        "    queue = []\n",
        "    heapq.heappush(queue, (0, start))  # (cost, node)\n",
        "\n",
        "    visited = set()\n",
        "    count = 0\n",
        "\n",
        "    while queue:\n",
        "        p_cost, p_node = heapq.heappop(queue)\n",
        "\n",
        "        if p_node in goal:\n",
        "            index = goal.index(p_node)\n",
        "            if answer[index] == 10**8:\n",
        "                count += 1\n",
        "            answer[index] = min(answer[index], p_cost)\n",
        "            if count == len(goal):\n",
        "                return answer\n",
        "\n",
        "        if p_node not in visited:\n",
        "            visited.add(p_node)\n",
        "            for neighbor in graph[p_node]:\n",
        "                edge_cost = cost.get((p_node, neighbor), float('inf'))\n",
        "                heapq.heappush(queue, (p_cost + edge_cost, neighbor))\n",
        "\n",
        "    return answer\n",
        "\n",
        "# Corrected the conditional statement to if __name__ == '__main__':\n",
        "if __name__ == '__main__':\n",
        "    # Create graph\n",
        "    graph = [[] for _ in range(8)]\n",
        "    cost = {}\n",
        "\n",
        "    # Add edges\n",
        "    graph[0].append(1)\n",
        "    graph[0].append(3)\n",
        "    graph[1].append(6)\n",
        "    graph[3].append(1)\n",
        "    graph[3].append(6)\n",
        "    graph[3].append(4)\n",
        "    graph[2].append(1)\n",
        "    graph[4].append(2)\n",
        "    graph[4].append(5)\n",
        "    graph[4].append(6)\n",
        "    graph[4].append(3)\n",
        "    graph[5].append(2)\n",
        "    graph[5].append(6)\n",
        "    graph[6].append(4)\n",
        "\n",
        "    # Add costs\n",
        "    cost[(0, 1)] = 2\n",
        "    cost[(0, 3)] = 5\n",
        "    cost[(1, 6)] = 1\n",
        "    cost[(3, 1)] = 5\n",
        "    cost[(3, 6)] = 6\n",
        "    cost[(3, 4)] = 2\n",
        "    cost[(2, 1)] = 4\n",
        "    cost[(4, 2)] = 3\n",
        "    cost[(4, 5)] = 2\n",
        "    cost[(4, 6)] = 6\n",
        "    cost[(4, 3)] = 2\n",
        "    cost[(5, 2)] = 6\n",
        "    cost[(5, 6)] = 3\n",
        "    cost[(6, 4)] = 7\n",
        "\n",
        "    # Goal state\n",
        "    goal = [6]\n",
        "\n",
        "    # Get the answer\n",
        "    answer = uniform_cost_search(goal, 0)\n",
        "\n",
        "    # Print result\n",
        "    print(\"Minimum cost from 0 to 6 is =\", answer[0])"
      ],
      "metadata": {
        "colab": {
          "base_uri": "https://localhost:8080/"
        },
        "id": "QLDt_zHVRdOg",
        "outputId": "6aeefe99-a5c4-430d-c4c9-71140bce20e8"
      },
      "execution_count": 6,
      "outputs": [
        {
          "output_type": "stream",
          "name": "stdout",
          "text": [
            "Minimum cost from 0 to 6 is = 3\n"
          ]
        }
      ]
    },
    {
      "cell_type": "code",
      "source": [
        "# from a given graph\n",
        "from collections import defaultdict\n",
        "\n",
        "\n",
        "class Graph:\n",
        "    def __init__(self):\n",
        "        self.graph = defaultdict(list)\n",
        "\n",
        "    def addEdge(self, u, v):\n",
        "        self.graph[u].append(v)\n",
        "\n",
        "    def DFSUtil(self, v, visited):\n",
        "\n",
        "        visited.add(v)\n",
        "        print(v, end=' ')\n",
        "\n",
        "        for neighbour in self.graph[v]:\n",
        "            if neighbour not in visited:\n",
        "                self.DFSUtil(neighbour, visited)\n",
        "\n",
        "    def DFS(self, v):\n",
        "        # Buat himpunan untuk menyimpan node yang sudah dikunjungi\n",
        "        visited = set()\n",
        "        # Panggil fungsi bantu rekursif\n",
        "        # untuk mencetak penelusuran DFS\n",
        "        self.DFSUtil(v, visited)\n",
        "\n",
        "\n",
        "# Kode pengguna\n",
        "# Corrected the conditional statement to if __name__ == '__main__':\n",
        "if __name__ == \"__main__\":\n",
        "    g = Graph()\n",
        "    g.addEdge(0, 1)\n",
        "    g.addEdge(0, 2)\n",
        "    g.addEdge(1, 2)\n",
        "    g.addEdge(2, 0)\n",
        "    g.addEdge(2, 3)\n",
        "    g.addEdge(3, 3)\n",
        "    print(\"Berikut adalah Penelusuran Depth First (dimulai dari node 2)\")\n",
        "    # Panggilan fungsi\n",
        "    g.DFS(2)"
      ],
      "metadata": {
        "colab": {
          "base_uri": "https://localhost:8080/"
        },
        "id": "m3URVLPBSKXs",
        "outputId": "336b59d9-e749-43c1-da47-6675fd417929"
      },
      "execution_count": 8,
      "outputs": [
        {
          "output_type": "stream",
          "name": "stdout",
          "text": [
            "Berikut adalah Penelusuran Depth First (dimulai dari node 2)\n",
            "2 0 1 3 "
          ]
        }
      ]
    },
    {
      "cell_type": "code",
      "source": [
        "import collections\n",
        "# BFS algorithm\n",
        "def bfs(graph, root):\n",
        "    visited, queue = set(), collections.deque([root])\n",
        "    visited.add(root)\n",
        "\n",
        "    while queue:\n",
        "        # Dequeue a vertex from queue\n",
        "        vertex = queue.popleft()\n",
        "        print(str(vertex) + \" \", end=\"\")\n",
        "\n",
        "        # If not visited, mark it as visited, and\n",
        "        # enqueue it\n",
        "        for neighbour in graph[vertex]:\n",
        "            if neighbour not in visited:\n",
        "                visited.add(neighbour)\n",
        "                queue.append(neighbour)\n",
        "#Corrected the conditional statement from if _name_ =='_main_': to if __name__ == '__main__':\n",
        "if __name__ == '__main__':\n",
        "    graph = {0: [1, 2], 1: [2], 2: [3], 3: [1, 2]}\n",
        "    print(\"Following is Breadth First Traversal: \")\n",
        "    bfs(graph, 0)"
      ],
      "metadata": {
        "colab": {
          "base_uri": "https://localhost:8080/"
        },
        "id": "rsEvyCoyTEif",
        "outputId": "96c7745b-0224-46a8-89bf-6b7ce38d2d89"
      },
      "execution_count": 10,
      "outputs": [
        {
          "output_type": "stream",
          "name": "stdout",
          "text": [
            "Following is Breadth First Traversal: \n",
            "0 1 2 3 "
          ]
        }
      ]
    }
  ]
}